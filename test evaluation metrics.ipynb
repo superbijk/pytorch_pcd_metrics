{
 "cells": [
  {
   "cell_type": "code",
   "execution_count": 1,
   "metadata": {},
   "outputs": [
    {
     "name": "stdout",
     "output_type": "stream",
     "text": [
      "python ver: 3.9.13 torch ver: 1.12.1\n",
      "/c/Program Files/NVIDIA GPU Computing Toolkit/CUDA/v11.6/bin/nvcc\n"
     ]
    }
   ],
   "source": [
    "from platform import python_version\n",
    "import torch\n",
    "\n",
    "print('python ver:', python_version(),'torch ver:', torch.__version__)\n",
    "!which nvcc"
   ]
  },
  {
   "cell_type": "markdown",
   "metadata": {},
   "source": [
    "# PointFlow"
   ]
  },
  {
   "cell_type": "code",
   "execution_count": 2,
   "metadata": {},
   "outputs": [
    {
     "name": "stdout",
     "output_type": "stream",
     "text": [
      "Processing d:\\github\\pytorch_pcd_metrics\\pytorch_structural_losses\n",
      "  Preparing metadata (setup.py): started\n",
      "  Preparing metadata (setup.py): finished with status 'done'\n",
      "Requirement already satisfied: torch in d:\\anaconda3\\envs\\torch\\lib\\site-packages (from PyTorchStructuralLosses==0.1.0) (1.12.1)\n",
      "Requirement already satisfied: typing_extensions in d:\\anaconda3\\envs\\torch\\lib\\site-packages (from torch->PyTorchStructuralLosses==0.1.0) (4.3.0)\n",
      "Building wheels for collected packages: PyTorchStructuralLosses\n",
      "  Building wheel for PyTorchStructuralLosses (setup.py): started\n",
      "  Building wheel for PyTorchStructuralLosses (setup.py): finished with status 'done'\n",
      "  Created wheel for PyTorchStructuralLosses: filename=PyTorchStructuralLosses-0.1.0-cp39-cp39-win_amd64.whl size=123031 sha256=b09883bedb5bbf0d7b8ae0194c62c6301d2711382f040afafe8f7f5af471b8b1\n",
      "  Stored in directory: C:\\Users\\chawa\\AppData\\Local\\Temp\\pip-ephem-wheel-cache-_4sjcatk\\wheels\\52\\77\\1c\\8169621564aa5a5e6e03db17ab422da49e896c7c31049299a8\n",
      "Successfully built PyTorchStructuralLosses\n",
      "Installing collected packages: PyTorchStructuralLosses\n",
      "  Attempting uninstall: PyTorchStructuralLosses\n",
      "    Found existing installation: PyTorchStructuralLosses 0.1.0\n",
      "    Uninstalling PyTorchStructuralLosses-0.1.0:\n",
      "      Successfully uninstalled PyTorchStructuralLosses-0.1.0\n",
      "Successfully installed PyTorchStructuralLosses-0.1.0\n"
     ]
    }
   ],
   "source": [
    "from pathlib import Path\n",
    "cwd = Path.cwd()\n",
    "module_dir = cwd / 'pytorch_structural_losses'\n",
    "\n",
    "# pip uninstall PyTorchStructuralLosses\n",
    "!cd {module_dir} && pip install ."
   ]
  },
  {
   "cell_type": "code",
   "execution_count": 3,
   "metadata": {},
   "outputs": [
    {
     "name": "stdout",
     "output_type": "stream",
     "text": [
      "PointFlow metrics w/o JSD\n",
      "{'lgan_mmd-CD': tensor(0.0044, device='cuda:0'), 'lgan_cov-CD': tensor(0.4688, device='cuda:0'), 'lgan_mmd_smp-CD': tensor(0.0044, device='cuda:0'), 'lgan_mmd-EMD': tensor(0.0768, device='cuda:0'), 'lgan_cov-EMD': tensor(0.4219, device='cuda:0'), 'lgan_mmd_smp-EMD': tensor(0.0769, device='cuda:0'), '1-NN-CD-acc_t': tensor(0.5469, device='cuda:0'), '1-NN-CD-acc_f': tensor(0.3750, device='cuda:0'), '1-NN-CD-acc': tensor(0.4609, device='cuda:0'), '1-NN-EMD-acc_t': tensor(0.4375, device='cuda:0'), '1-NN-EMD-acc_f': tensor(0.5469, device='cuda:0'), '1-NN-EMD-acc': tensor(0.4922, device='cuda:0')}\n",
      "PointFlow JSD: 0.0037257533341410465\n"
     ]
    }
   ],
   "source": [
    "import StructuralLosses\n",
    "\n",
    "a, b = torch.rand((64, 2048, 3)).cuda(), torch.rand((64, 2048, 3)).cuda()\n",
    "bs = a.shape[0] # batch_size\n",
    "\n",
    "results = StructuralLosses.compute_all_metrics(a, b, bs)\n",
    "print('PointFlow metrics w/o JSD')\n",
    "print(results)\n",
    "\n",
    "a_, b_ = a.detach().cpu().numpy(), b.detach().cpu().numpy()\n",
    "\n",
    "jsd_pcd = StructuralLosses.jsd_between_point_cloud_sets(a_, b_)\n",
    "print('PointFlow JSD:', jsd_pcd)"
   ]
  },
  {
   "cell_type": "markdown",
   "metadata": {},
   "source": [
    "# MSN-Point-Cloud-Completion\n"
   ]
  },
  {
   "cell_type": "code",
   "execution_count": 4,
   "metadata": {},
   "outputs": [
    {
     "name": "stdout",
     "output_type": "stream",
     "text": [
      "Processing d:\\github\\pytorch_pcd_metrics\\pytorch-emd\n",
      "  Preparing metadata (setup.py): started\n",
      "  Preparing metadata (setup.py): finished with status 'done'\n",
      "Building wheels for collected packages: emd\n",
      "  Building wheel for emd (setup.py): started\n",
      "  Building wheel for emd (setup.py): finished with status 'done'\n",
      "  Created wheel for emd: filename=emd-0.0.0-cp39-cp39-win_amd64.whl size=203421 sha256=1ff5123a81ee43e475b51ca18be0861bfc4bb7e3b39de6b034dfc9d06126897d\n",
      "  Stored in directory: c:\\users\\chawa\\appdata\\local\\pip\\cache\\wheels\\98\\f1\\9b\\18297e502192368be2d22439c8c1cdb08f6adbfbd64f630887\n",
      "Successfully built emd\n",
      "Installing collected packages: emd\n",
      "  Attempting uninstall: emd\n",
      "    Found existing installation: emd 0.0.0\n",
      "    Uninstalling emd-0.0.0:\n",
      "      Successfully uninstalled emd-0.0.0\n",
      "Successfully installed emd-0.0.0\n"
     ]
    }
   ],
   "source": [
    "from pathlib import Path\n",
    "cwd = Path.cwd()\n",
    "module_dir = cwd / 'pytorch-emd'\n",
    "\n",
    "# pip uninstall emd\n",
    "!cd {module_dir} && pip install ."
   ]
  },
  {
   "cell_type": "code",
   "execution_count": 5,
   "metadata": {},
   "outputs": [
    {
     "name": "stdout",
     "output_type": "stream",
     "text": [
      "Input_size:  torch.Size([20, 8192, 3])\n",
      "Runtime: 2.250506s\n",
      "EMD: 0.039039\n",
      "|set(assignment)|: 8192\n",
      "Verified EMD: 0.039039\n"
     ]
    }
   ],
   "source": [
    "from emd_wrapper import emdModule, test_emd\n",
    "test_emd()"
   ]
  },
  {
   "cell_type": "code",
   "execution_count": 6,
   "metadata": {},
   "outputs": [
    {
     "name": "stdout",
     "output_type": "stream",
     "text": [
      "tensor([0.0050, 0.0046, 0.0048, 0.0046, 0.0050, 0.0054, 0.0050, 0.0048, 0.0048,\n",
      "        0.0055, 0.0047, 0.0051, 0.0046, 0.0052, 0.0048, 0.0050, 0.0046, 0.0054,\n",
      "        0.0050, 0.0046, 0.0047, 0.0057, 0.0047, 0.0048, 0.0050, 0.0047, 0.0052,\n",
      "        0.0057, 0.0046, 0.0051, 0.0051, 0.0047, 0.0048, 0.0047, 0.0055, 0.0048,\n",
      "        0.0058, 0.0052, 0.0051, 0.0047, 0.0046, 0.0053, 0.0051, 0.0051, 0.0047,\n",
      "        0.0045, 0.0060, 0.0054, 0.0047, 0.0049, 0.0050, 0.0053, 0.0050, 0.0051,\n",
      "        0.0058, 0.0050, 0.0047, 0.0052, 0.0048, 0.0052, 0.0051, 0.0047, 0.0048,\n",
      "        0.0056], device='cuda:0') tensor([[1685,  311, 1441,  ..., 1013, 1002, 1260],\n",
      "        [1412, 1066, 1000,  ..., 1645,   62,  719],\n",
      "        [ 883, 1768,  324,  ..., 1005, 1969,  209],\n",
      "        [1323,  271, 1751,  ...,  363,  255, 1833],\n",
      "        [1327,  500, 1046,  ..., 1634,  717, 1342]], device='cuda:0',\n",
      "       dtype=torch.int32)\n"
     ]
    }
   ],
   "source": [
    "a, b = torch.rand((64, 2048, 3)).cuda(), torch.rand((64, 2048, 3)).cuda()\n",
    "emd_module = emdModule()\n",
    "eps, iter = 0.002, 10000\n",
    "dist, assignment = emd_module(a, b, eps, iter)\n",
    "print(dist.mean(dim=1), assignment[:5])"
   ]
  }
 ],
 "metadata": {
  "kernelspec": {
   "display_name": "Python 3.9.13 ('torch')",
   "language": "python",
   "name": "python3"
  },
  "language_info": {
   "codemirror_mode": {
    "name": "ipython",
    "version": 3
   },
   "file_extension": ".py",
   "mimetype": "text/x-python",
   "name": "python",
   "nbconvert_exporter": "python",
   "pygments_lexer": "ipython3",
   "version": "3.9.13"
  },
  "orig_nbformat": 4,
  "vscode": {
   "interpreter": {
    "hash": "7fb8039a8f54b6eaa53411e1600db4762c5d3778c5768c8cb602a31c798a2c38"
   }
  }
 },
 "nbformat": 4,
 "nbformat_minor": 2
}
